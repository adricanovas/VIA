{
 "cells": [
  {
   "cell_type": "markdown",
   "id": "2e6f2a59",
   "metadata": {},
   "source": [
    "SIFT. Escribe una aplicación de reconocimiento de objetos (p. ej. carátulas de CD, portadas de libros, cuadros de pintores, etc.) con la webcam basada en el número de coincidencias de keypoints. Más información."
   ]
  },
  {
   "cell_type": "code",
   "execution_count": null,
   "id": "774c8468",
   "metadata": {},
   "outputs": [],
   "source": [
    "#!/usr/bin/env python\n",
    "\n",
    "# eliminamos muchas coincidencias erróneas mediante el \"ratio test\"\n",
    "\n",
    "import cv2 as cv\n",
    "import time\n",
    "\n",
    "from umucv.stream import autoStream\n",
    "from umucv.util import putText\n",
    "from collections import deque\n",
    "\n",
    "\n",
    "\n",
    "sift = cv.AKAZE_create()\n",
    "\n",
    "matcher = cv.BFMatcher()\n",
    "\n",
    "images = deque(maxlen=20)\n",
    "\n",
    "for key, frame in autoStream():\n",
    "\n",
    "    if key == ord('x'):\n",
    "        x0 = None\n",
    "\n",
    "    t0 = time.time()\n",
    "    keypoints, descriptors = sift.detectAndCompute(frame, mask=None)\n",
    "    t1 = time.time()\n",
    "    putText(frame, f'{len(keypoints)} pts  {1000 * (t1 - t0):.0f} ms')\n",
    "\n",
    "    x0 = cv.imread(\"../images/SIFT/1.jpg\", 1)\n",
    "    t2 = time.time()\n",
    "    # solicitamos las dos mejores coincidencias de cada punto, no solo la mejor\n",
    "    k0, d0 = sift.detectAndCompute(x0, mask=None)\n",
    "    matches = matcher.knnMatch(descriptors, d0, k=2)\n",
    "    t3 = time.time()\n",
    "\n",
    "    # ratio test\n",
    "    # nos quedamos solo con las coincidencias que son mucho mejores que\n",
    "    # que la \"segunda opción\". Es decir, si un punto se parece más o menos lo mismo\n",
    "    # a dos puntos diferentes del modelo lo eliminamos.\n",
    "    good = []\n",
    "    for m in matches:\n",
    "        if len(m) >= 2:\n",
    "            best, second = m\n",
    "            if best.distance < 0.75 * second.distance:\n",
    "                good.append(best)\n",
    "\n",
    "    imgm = cv.drawMatches(frame, keypoints, x0, k0, good,\n",
    "                          flags=0,\n",
    "                          matchColor=(128, 255, 128),\n",
    "                          singlePointColor=(128, 128, 128),\n",
    "                          outImg=None)\n",
    "\n",
    "    putText(imgm, f'{len(good)} matches  {1000 * (t3 - t2):.0f} ms',\n",
    "            orig=(5, 36), color=(200, 255, 200))\n",
    "    cv.imshow(\"SIFT\", imgm)"
   ]
  },
  {
   "cell_type": "markdown",
   "id": "bd9809f9",
   "metadata": {},
   "source": [
    "![fruits.png](attachment:fruits.png)"
   ]
  }
 ],
 "metadata": {
  "kernelspec": {
   "display_name": "Python 3",
   "language": "python",
   "name": "python3"
  },
  "language_info": {
   "codemirror_mode": {
    "name": "ipython",
    "version": 3
   },
   "file_extension": ".py",
   "mimetype": "text/x-python",
   "name": "python",
   "nbconvert_exporter": "python",
   "pygments_lexer": "ipython3",
   "version": "3.7.3"
  }
 },
 "nbformat": 4,
 "nbformat_minor": 5
}
