{
 "cells": [
  {
   "cell_type": "markdown",
   "metadata": {
    "collapsed": true
   },
   "source": [
    "# CALIBRACIÓN #"
   ]
  },
  {
   "cell_type": "markdown",
   "metadata": {},
   "source": [
    "### a) Realiza una calibración precisa de tu cámara mediante múltiples imágenes de un *chessboard*. ###"
   ]
  },
  {
   "cell_type": "markdown",
   "metadata": {},
   "source": [
    "Para ello se han seleccionado una batería de imágenes de chess boards colocados en diferentes posiciones y águnlos."
   ]
  },
  {
   "cell_type": "markdown",
   "metadata": {},
   "source": [
    "<table><tr>\n",
    "<td> <div> <img src=\"../Images/chessboard/01.jpg\" width=\"300\"/> </div> </td>\n",
    "<td> <div> <img src=\"../Images/chessboard/02.png\" width=\"300\"/> </div> </td>\n",
    "<td> <div> <img src=\"../Images/chessboard/03.jpg\" width=\"300\"/> </div> </td>\n",
    "</tr></table>\n",
    "<table><tr>\n",
    "<td> <div> <img src=\"../Images/chessboard/04.jpg\" width=\"300\"/> </div> </td>\n",
    "<td> <div> <img src=\"../Images/chessboard/05.png\" width=\"300\"/> </div> </td>\n",
    "<td> <div> <img src=\"../Images/chessboard/06.jpg\" width=\"300\"/> </div> </td>\n",
    "</tr></table>\n",
    "<table><tr>\n",
    "<td> <div> <img src=\"../Images/chessboard/07.jpg\" width=\"300\"/> </div> </td>\n",
    "</tr></table>"
   ]
  },
  {
   "cell_type": "markdown",
   "metadata": {},
   "source": [
    "Para realizar la calibracións se ejecuta el script `calibrate.py`, el cual recibe como parámetro el path en el que se encuentran nuestras imágenes. En nuestro caso la carpeta `/Images/chessboard` es la encargada de contener las imágenes para este ejercicio."
   ]
  },
  {
   "cell_type": "markdown",
   "metadata": {},
   "source": [
    "El script `calibrate.py` se encarga de abrir y cargar todas las imágenes y detectar en ellas la existencia de un tablero. La salida de nuestra ejecución es la siguiente:"
   ]
  },
  {
   "cell_type": "markdown",
   "metadata": {},
   "source": [
    "***\n",
    "```\n",
    "processing /Users/adri/Documents/VIA/Proyecto/Images/chesboard/01.jpg...\n",
    "ok\n",
    "processing /Users/adri/Documents/VIA/Proyecto/Images/chesboard/03.jpg...\n",
    "ok\n",
    "processing /Users/adri/Documents/VIA/Proyecto/Images/chesboard/02.png...\n",
    "ok\n",
    "processing /Users/adri/Documents/VIA/Proyecto/Images/chesboard/06.jpg...\n",
    "ok\n",
    "processing /Users/adri/Documents/VIA/Proyecto/Images/chesboard/07.jpg...\n",
    "ok\n",
    "processing /Users/adri/Documents/VIA/Proyecto/Images/chesboard/05.png...\n",
    "ok\n",
    "processing /Users/adri/Documents/VIA/Proyecto/Images/chesboard/04.jpg...\n",
    "ok\n",
    "\n",
    "RMS: 2.8714138013067765\n",
    "\n",
    "camera matrix:\n",
    " [[1.01152938e+03 0.00000000e+00 3.83190037e+02]\n",
    " [0.00000000e+00 1.01485578e+03 1.15614721e+02]\n",
    " [0.00000000e+00 0.00000000e+00 1.00000000e+00]]\n",
    "\n",
    "\n",
    "distortion coefficients:  [ 0.1773587  -1.17893771 -0.02496152 -0.00188531  1.07972901]\n",
    "```\n",
    "***"
   ]
  },
  {
   "cell_type": "markdown",
   "metadata": {},
   "source": [
    "El programa devuelve el error de ajuste (RMS), la matriz de calibración de cámara K, y los\n",
    "coeficientes de distorsión radial."
   ]
  },
  {
   "cell_type": "markdown",
   "metadata": {},
   "source": [
    "### b) Haz una calibración aproximada con un objeto de tamaño conocido y compara con el resultado anterior. ###"
   ]
  },
  {
   "cell_type": "markdown",
   "metadata": {},
   "source": [
    "Para ello utilizamos una imagen de un tablero (para porder realizar una comparativa con los valores optenidos en el apaertado anterior), tomada desde una distancia Z."
   ]
  },
  {
   "cell_type": "markdown",
   "metadata": {},
   "source": [
    "<div> <img src=\"../Images/calibrate/01.jpg\" width=\"300\"/> </div> "
   ]
  },
  {
   "cell_type": "markdown",
   "metadata": {},
   "source": [
    "Medimos con una regla el tamaño de una celda de nuestro tablero, estas celdas con la resolución de la pantalla miden exactamente 3x3cm (X=3cm). Situamos la cámara a una distancia de Z=33cm y realizamos una captura de la imagen, la cual, una vez digitalizada, medimos el correspondiente lado en píxeles: u=107px.\n",
    "\n",
    "$$u= f \\frac{X}{Z}$$\n",
    "\n",
    "$$f= \\frac{Z * u}{X}$$\n",
    "\n",
    "$$f= \\frac{33 * 107}{3} = 1177px$$"
   ]
  },
  {
   "cell_type": "markdown",
   "metadata": {},
   "source": [
    "Mientras que si utilizamos el script `calibrate.py` con la imagen, nos retorna un valor de 1089.48645px. Si consideramos la calibración precisa como el validador de este método:"
   ]
  },
  {
   "cell_type": "code",
   "execution_count": 11,
   "metadata": {},
   "outputs": [
    {
     "name": "stdout",
     "output_type": "stream",
     "text": [
      "Error del 8.0%\n"
     ]
    }
   ],
   "source": [
    "print(\"Error del \" + str(round((1177/1089.48645 - 1),2) *100) + \"%\")"
   ]
  },
  {
   "cell_type": "markdown",
   "metadata": {},
   "source": [
    "### c) Determina a qué altura hay que poner la cámara para obtener una vista cenital completa de un campo de baloncesto. ###"
   ]
  },
  {
   "cell_type": "markdown",
   "metadata": {},
   "source": [
    "Para ello hacemos uso de esta imagen tomada por un dron de una cancha de baloncesto durante un partido. La imagen tiene una dismensiones de 626x469px y representa un campo de 28x15m donde se observa un metro de distancia de más a lo ancho y 3 a lo largo."
   ]
  },
  {
   "cell_type": "markdown",
   "metadata": {},
   "source": [
    "<div> <img src=\"../Images/calibrate/04.jpg\" width=\"300\"/> </div> "
   ]
  },
  {
   "cell_type": "markdown",
   "metadata": {},
   "source": [
    "Medimos con una regla el tamaño de una celda de nuestro tablero, estas celdas con la resolución de la pantalla miden exactamente 3x3cm (X=3cm). Situamos la cámara a una distancia de Z=33cm y realizamos una captura de la imagen, la cual, una vez digitalizada, medimos el correspondiente lado en píxeles: u=107px.\n",
    "\n",
    "$$u= f \\frac{X}{Z}$$\n",
    "\n",
    "$$Z = f \\frac{X}{u}$$\n",
    "\n",
    "$$Z= 1011.52938 * \\frac{30}{626} = 48.4758 m$$\n",
    "\n",
    "Por lo que la cámara para controlar el campo deberá situarse a 48 metros de altura para poder captar todo este."
   ]
  },
  {
   "cell_type": "markdown",
   "metadata": {},
   "source": [
    "### d) Haz una aplicación para medir el ángulo que definen dos puntos marcados con el ratón en el imagen. ###"
   ]
  },
  {
   "cell_type": "markdown",
   "metadata": {},
   "source": [
    "Dados dos puntos obtenidos mediante el marcado del ratón debemos medir el ángulo que forman en la imagen. Para ello haremos uso del script `medidor.py` donde nos basamos para el funcionamiento de la selección de puntos en pantalla. Una vez seleccionados aplicaremos la siguiente fórmula:\n",
    "\n",
    "$$\\tan \\left(\\frac{FOV}{2}\\right) = \\frac{\\frac{w}{2}}{f}$$\n",
    "\n",
    "El valor de $ f $ se obtiene del primer apartado de este ejercicio y al conocer el valor del *focal length* podemos asociar a cada pixel  *(𝑝,𝑞)*  de la imagen un vector 3D en el sistema de referencia de la cámara.\n",
    "\n",
    "$$FOV = 60.2^o$$"
   ]
  },
  {
   "cell_type": "markdown",
   "metadata": {},
   "source": [
    "### e) Opcional: determina la posición aproximada desde la que se ha tomado una foto a partir ángulos observados respecto a puntos de referencia conocidos ###"
   ]
  },
  {
   "cell_type": "code",
   "execution_count": null,
   "metadata": {},
   "outputs": [],
   "source": []
  }
 ],
 "metadata": {
  "kernelspec": {
   "display_name": "Python 3",
   "language": "python",
   "name": "python3"
  },
  "language_info": {
   "codemirror_mode": {
    "name": "ipython",
    "version": 3
   },
   "file_extension": ".py",
   "mimetype": "text/x-python",
   "name": "python",
   "nbconvert_exporter": "python",
   "pygments_lexer": "ipython3",
   "version": "3.7.3"
  }
 },
 "nbformat": 4,
 "nbformat_minor": 1
}
