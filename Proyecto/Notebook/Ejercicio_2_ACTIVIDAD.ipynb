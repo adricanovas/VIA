{
 "cells": [
  {
   "cell_type": "markdown",
   "id": "b24e6778",
   "metadata": {},
   "source": [
    "# ACTIVIDAD #"
   ]
  },
  {
   "cell_type": "markdown",
   "id": "302c8a6d",
   "metadata": {},
   "source": [
    "### Construye un detector de movimiento en una región de interés de la imagen marcada manualmente. Guarda 2 ó 3 segundos de la secuencia detectada en un archivo de vídeo. ###"
   ]
  },
  {
   "cell_type": "code",
   "execution_count": null,
   "id": "183ce116",
   "metadata": {},
   "outputs": [],
   "source": []
  },
  {
   "cell_type": "markdown",
   "id": "6127d24c",
   "metadata": {},
   "source": [
    "### Opcional: muestra el objeto seleccionado anulando el fondo. ###"
   ]
  }
 ],
 "metadata": {
  "kernelspec": {
   "display_name": "Python 3",
   "language": "python",
   "name": "python3"
  },
  "language_info": {
   "codemirror_mode": {
    "name": "ipython",
    "version": 3
   },
   "file_extension": ".py",
   "mimetype": "text/x-python",
   "name": "python",
   "nbconvert_exporter": "python",
   "pygments_lexer": "ipython3",
   "version": "3.8.2"
  }
 },
 "nbformat": 4,
 "nbformat_minor": 5
}
