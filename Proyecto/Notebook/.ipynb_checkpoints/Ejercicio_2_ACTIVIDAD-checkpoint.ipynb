{
 "cells": [
  {
   "cell_type": "markdown",
   "id": "wicked-pavilion",
   "metadata": {},
   "source": [
    "# ACTIVIDAD #"
   ]
  },
  {
   "cell_type": "markdown",
   "id": "sudden-photography",
   "metadata": {},
   "source": [
    "###  Construye un detector de movimiento en una región de interés de la imagen marcada manualmente. Guarda 2 ó 3 segundos de la secuencia detectada en un archivo de vídeo. ###"
   ]
  },
  {
   "cell_type": "markdown",
   "id": "composite-smith",
   "metadata": {},
   "source": [
    "La sucesión de pasos para aplicar una Región de interés en una imagen (ROI) es: crear un ROI en la imagen, realizar la operación que desea en esta subregión de la imagen, restablecer el ROI.\n",
    "\n",
    "En este notebook veremos como aplicar un ROI siguiendo este esquema y aplicando "
   ]
  },
  {
   "cell_type": "markdown",
   "id": "extended-joshua",
   "metadata": {},
   "source": [
    "###  Opcional: muestra el objeto seleccionado anulando el fondo. ###"
   ]
  }
 ],
 "metadata": {
  "kernelspec": {
   "display_name": "Python 3",
   "language": "python",
   "name": "python3"
  },
  "language_info": {
   "codemirror_mode": {
    "name": "ipython",
    "version": 3
   },
   "file_extension": ".py",
   "mimetype": "text/x-python",
   "name": "python",
   "nbconvert_exporter": "python",
   "pygments_lexer": "ipython3",
   "version": "3.7.3"
  }
 },
 "nbformat": 4,
 "nbformat_minor": 5
}
