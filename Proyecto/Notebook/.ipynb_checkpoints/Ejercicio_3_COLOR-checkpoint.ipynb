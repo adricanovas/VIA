{
 "cells": [
  {
   "cell_type": "markdown",
   "id": "wicked-pavilion",
   "metadata": {},
   "source": [
    "# COLOR #"
   ]
  },
  {
   "cell_type": "markdown",
   "id": "sudden-photography",
   "metadata": {},
   "source": [
    "###  Construye un clasificador de objetos en base a la similitud de los histogramas de color del ROI (de los 3 canales por separado). ###"
   ]
  },
  {
   "cell_type": "markdown",
   "id": "composite-smith",
   "metadata": {},
   "source": [
    "Muchas operaciones de imágenes comunes se realizan utilizando Regiones de interés (ROI), como hemos visto en el ejercicio anterior. Un ROI nos permite operar en un subconjunto rectangular de la imagen seleccionada.\n",
    "\n",
    "En este notebook veremos como aplicar un ROI donde se observe un histograma de los canales de color. "
   ]
  },
  {
   "cell_type": "markdown",
   "id": "extended-joshua",
   "metadata": {},
   "source": [
    "###  Opcional: Segmentación densa por reproyección de histograma. ###"
   ]
  }
 ],
 "metadata": {
  "kernelspec": {
   "display_name": "Python 3",
   "language": "python",
   "name": "python3"
  },
  "language_info": {
   "codemirror_mode": {
    "name": "ipython",
    "version": 3
   },
   "file_extension": ".py",
   "mimetype": "text/x-python",
   "name": "python",
   "nbconvert_exporter": "python",
   "pygments_lexer": "ipython3",
   "version": "3.7.3"
  }
 },
 "nbformat": 4,
 "nbformat_minor": 5
}
