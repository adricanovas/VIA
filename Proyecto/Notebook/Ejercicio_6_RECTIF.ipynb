{
 "cells": [
  {
   "cell_type": "markdown",
   "id": "bridal-balance",
   "metadata": {},
   "source": [
    "### RECTIF ###"
   ]
  },
  {
   "cell_type": "markdown",
   "id": "lesser-chance",
   "metadata": {},
   "source": [
    "### Rectifica la imagen de un plano para medir distancias (tomando manualmente referencias conocidas). Por ejemplo, mide la distancia entre las monedas en coins.png o la distancia a la que se realiza el disparo en gol-eder.png. Verifica los resultados con imágenes originales tomadas por ti. ###"
   ]
  },
  {
   "cell_type": "markdown",
   "id": "86de3b8e",
   "metadata": {},
   "source": [
    "Antes de comenzar. Este ejercicio utiliza un fichero auxiliar de configuración donde se almacena la información necesaria para este. El fichero es de texto plano sin extensión y el formato es:\n",
    "\n",
    "- Nombre del archivo de imagen\n",
    "- Puntos en la imagen\n",
    "- Puntos en la imagen rectificada\n",
    "- Escala: Consiste en determinar la proporción pixel a escala real. Para milímetros usamos escala 2 (1 mm son 2 pixels) y para metros se usa 0.1 metro equivale a un pixel."
   ]
  },
  {
   "cell_type": "markdown",
   "id": "naked-conversion",
   "metadata": {},
   "source": [
    "En cuanto a esta aplicación buscamos rectificar una imagen, colocar la cámara de forma que podamos ver el contenido escalado y aplicando un factor determinar la distancia de dos puntos.\n",
    "\n",
    "Para su ejecución el programa debe recibir un parámetro que consiste en el archivo de configuración de cada ejemplo.\n",
    "\n",
    "`../Images/6_RECTIF/coins`\n",
    "\n",
    "`../Images/6_RECTIF/gol-eder`\n",
    "\n",
    "`../Images/6_RECTIF/pen`"
   ]
  },
  {
   "cell_type": "markdown",
   "id": "mature-photography",
   "metadata": {},
   "source": [
    "## Diseño"
   ]
  },
  {
   "cell_type": "markdown",
   "id": "together-husband",
   "metadata": {},
   "source": [
    "Disponemos una función auxiliar del script `medidor.py` en el que me he basado para construir la solución de este ejercicio. Se utiliza para marcar dos puntos sobre la escena y mostrarlos."
   ]
  },
  {
   "cell_type": "code",
   "execution_count": null,
   "id": "explicit-beaver",
   "metadata": {},
   "outputs": [],
   "source": [
    "def fun(event, x, y, flags, param):\n",
    "    if event == cv.EVENT_LBUTTONDOWN:\n",
    "        points.append((x, y))"
   ]
  },
  {
   "cell_type": "markdown",
   "id": "adult-heaven",
   "metadata": {},
   "source": [
    "A continuación aparece la lógica relativa a la lectura y parseo del archivo. No se va a analizar el código de esta parte debido a que no es funcionalidad concreta de VIA, pero mencionaremos su proceso:\n",
    "\n",
    "- Obtiene cada línea del fichero\n",
    "- Mete en variables cada dato eliminando los saltos de línea\n",
    "    - Para los cuatro puntos tenemos dos coordenadas para cada uno por lo tanto los mete en una lista de listas\n",
    "- Carga la imagen\n",
    "- Creamos las ventanas\n",
    "- Dibujamos un rectángulo azul en la zona sin rectificar\n"
   ]
  },
  {
   "cell_type": "markdown",
   "id": "dirty-funeral",
   "metadata": {},
   "source": [
    "Antes de comenzar el bucle de captura de eventos e imagen debemos rectificar la fotografía que hemos pasado al programa. Nos valemos de los puntos calculados y le decimos al algoritmo donde queremos que se sitúen los nuevos puntos.\n",
    "\n",
    "Utilizamos la función findHomography que encuentra una transformación de perspectiva entre dos planos. Esto significa que puede calcular la transformación de perspectiva de dos imágenes (del mismo tablero (de calibración)) tomadas desde diferentes posiciones.\n",
    "\n",
    "OpenCV dispone de la función warpPerspective() que dada una imagen y cuatro pares de puntos es capaz de realizar una transformación en la matriz para ajustarlos a estos."
   ]
  },
  {
   "attachments": {},
   "cell_type": "markdown",
   "id": "needed-staff",
   "metadata": {},
   "source": [
    "<div>\n",
    "<img src=\"../Images/6_RECTIF/t1.jpg\" width=\"500\"/>\n",
    "</div>"
   ]
  },
  {
   "cell_type": "code",
   "execution_count": null,
   "id": "appointed-variable",
   "metadata": {},
   "outputs": [],
   "source": [
    "# Rectificamos\n",
    "H, _ = cv.findHomography(puntos, np.array(prectificados).reshape((-1, 1, 2)))\n",
    "rectificado = cv.warpPerspective(img, H, (1280, 720))"
   ]
  },
  {
   "cell_type": "markdown",
   "id": "complimentary-giant",
   "metadata": {},
   "source": [
    "## Ejemplos"
   ]
  },
  {
   "cell_type": "markdown",
   "id": "broadband-circulation",
   "metadata": {},
   "source": [
    "### Moneda\n",
    "\n",
    "Ya disponemos de la imagen transformada y podemos tomar las medidas sobre esta. El resto del proceso consiste en la toma de puntos y la resolución de la medida."
   ]
  },
  {
   "cell_type": "markdown",
   "id": "apparent-colombia",
   "metadata": {},
   "source": [
    "<div>\n",
    "<img src=\"../Images/6_RECTIF/t2.PNG\" width=\"500\"/>\n",
    "</div>"
   ]
  },
  {
   "cell_type": "markdown",
   "id": "confused-revelation",
   "metadata": {},
   "source": [
    "El resultado obtenido es de 10cm de distancia (100,7mm) además podemos observar el contorno del carnet de conducir que se ha utilizado para la rectificación."
   ]
  },
  {
   "cell_type": "markdown",
   "id": "august-wiring",
   "metadata": {},
   "source": [
    "### Gol Eder"
   ]
  },
  {
   "cell_type": "markdown",
   "id": "exceptional-motorcycle",
   "metadata": {},
   "source": [
    "<div>\n",
    "<img src=\"../Images/6_RECTIF/t3.PNG\" width=\"500\"/>\n",
    "</div>"
   ]
  },
  {
   "cell_type": "markdown",
   "id": "musical-serve",
   "metadata": {},
   "source": [
    "Para la medición del campo obtenemos que el jugador chuta desde 16.70 metros hasta el área pequeña del portero (no se ve la portería desde la imagen y por tanto no se puede calcular la distancia de tiro a puerta).\n",
    "\n",
    "En esta imagen se ha utilizado un valor conocido[1](http://www.oficad.com/medidas_y_dimesnsiones/campo_de_futbol.htm) de la distancia de 16x11m que corresponde con el lateral de área rival."
   ]
  },
  {
   "cell_type": "markdown",
   "id": "bright-advantage",
   "metadata": {},
   "source": [
    "### Tamaño de un portaminas"
   ]
  },
  {
   "cell_type": "markdown",
   "id": "reserved-karma",
   "metadata": {},
   "source": [
    "Para finalizar se ha implementado un ejemplo en un escenario similar al de las monedas. He utilizado mi escritorio y un portaminas de tamaño conocido 14,8cm de largo.\n",
    "\n",
    "Se ha procedido como en el resto de imágenes, se han medido los puntos de la imagen original mediante un programa de edición de fotos (Photoshop) y se ha generado el archivo de configuración."
   ]
  },
  {
   "cell_type": "markdown",
   "id": "limiting-diameter",
   "metadata": {},
   "source": [
    "<div>\n",
    "<img src=\"../Images/6_RECTIF/pen2.jpg\" width=\"300\"/>\n",
    "</div>"
   ]
  },
  {
   "cell_type": "markdown",
   "id": "jewish-sarah",
   "metadata": {},
   "source": [
    "Como punto de referencia he utilizado mi DNI y se ha marcado el contorno de este. Como sabemos el DNI mide 55x85cm aproximadamente."
   ]
  },
  {
   "cell_type": "markdown",
   "id": "south-adolescent",
   "metadata": {},
   "source": [
    "<table><tr>\n",
    "<td> <div> <img src=\"../Images/6_RECTIF/t4.PNG\" width=\"300\"/> </div> </td>\n",
    "<td> <div> <img src=\"../Images/6_RECTIF/t5.PNG\" width=\"500\"/> </div> </td>\n",
    "</tr></table>"
   ]
  },
  {
   "cell_type": "markdown",
   "id": "another-enough",
   "metadata": {},
   "source": [
    "La ejecución del programa nos reporta un valor de 14.91cm lo que se aproxima mucho al valor real. Si consideramos la medida medida con la regla como la más fiable (aunque se debería de usar un instrumento de medida más preciso para no incrementar el error de medida) obtenemos un error del 1% respecto a la medición real."
   ]
  },
  {
   "cell_type": "code",
   "execution_count": 6,
   "id": "right-diagram",
   "metadata": {
    "scrolled": true
   },
   "outputs": [
    {
     "name": "stdout",
     "output_type": "stream",
     "text": [
      "Error del 1.0%\n"
     ]
    }
   ],
   "source": [
    "print(\"Error del \" + str(round((1 - 14.8/14.91),2) *100) + \"%\")"
   ]
  }
 ],
 "metadata": {
  "kernelspec": {
   "display_name": "Python 3",
   "language": "python",
   "name": "python3"
  },
  "language_info": {
   "codemirror_mode": {
    "name": "ipython",
    "version": 3
   },
   "file_extension": ".py",
   "mimetype": "text/x-python",
   "name": "python",
   "nbconvert_exporter": "python",
   "pygments_lexer": "ipython3",
   "version": "3.7.3"
  }
 },
 "nbformat": 4,
 "nbformat_minor": 5
}
