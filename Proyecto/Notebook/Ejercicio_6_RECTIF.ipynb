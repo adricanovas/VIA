{
 "cells": [
  {
   "cell_type": "markdown",
   "id": "bridal-balance",
   "metadata": {},
   "source": [
    "### RECTIF ###"
   ]
  },
  {
   "cell_type": "markdown",
   "id": "lesser-chance",
   "metadata": {},
   "source": [
    "### Rectifica la imagen de un plano para medir distancias (tomando manualmente referencias conocidas). Por ejemplo, mide la distancia entre las monedas en coins.png o la distancia a la que se realiza el disparo en gol-eder.png. Verifica los resultados con imágenes originales tomadas por ti. ###"
   ]
  },
  {
   "cell_type": "markdown",
   "id": "86de3b8e",
   "metadata": {},
   "source": [
    "Este ejercicio utiliza un fichero auxiliar de configuración donde se almacena la información necesaria para este. El ejercicio sigue la estructura de `medidor.py`."
   ]
  },
  {
   "cell_type": "code",
   "execution_count": null,
   "id": "3006e5aa",
   "metadata": {},
   "outputs": [],
   "source": [
    "## R"
   ]
  }
 ],
 "metadata": {
  "kernelspec": {
   "display_name": "Python 3",
   "language": "python",
   "name": "python3"
  },
  "language_info": {
   "codemirror_mode": {
    "name": "ipython",
    "version": 3
   },
   "file_extension": ".py",
   "mimetype": "text/x-python",
   "name": "python",
   "nbconvert_exporter": "python",
   "pygments_lexer": "ipython3",
   "version": "3.8.2"
  }
 },
 "nbformat": 4,
 "nbformat_minor": 5
}
