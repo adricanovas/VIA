{
 "cells": [
  {
   "cell_type": "markdown",
   "id": "bridal-balance",
   "metadata": {},
   "source": [
    "### RECTIF ###"
   ]
  },
  {
   "cell_type": "markdown",
   "id": "lesser-chance",
   "metadata": {},
   "source": [
    "### Crea automáticamente un mosaico a partir de las imágenes en una carpeta. Las imágenes no tienen por qué estar ordenadas ni formar una cadena lineal y no sabemos el espacio que ocupa el resultado. El usuario debe intervenir lo menos posible. Recuerda que debe tratarse de una escena plana o de una escena cualquiera vista desde el mismo centro de proyección. Debes usar homografías. Compara el resultado con el que obtiene la utilidad de stitching de OpenCV."
   ]
  },
  {
   "cell_type": "markdown",
   "id": "helpful-inflation",
   "metadata": {},
   "source": [
    "Las imágenes en 3D tomadas desde la misma posición están relacionadas por una homografía. En este ejercicio veremos como detectar la relación mediante homografías planas y generar un mosaico desde un punto de referencia común.\n",
    "\n",
    "La idea sobre el diseño de este ejercicio se obtiene del notebook `transf2D` en el que se define la forma en la que dos imágenes se unen en un mosaico, pero extenderé esa funcionalidad a un número más grande de imágenes.\n",
    "\n",
    "Para su ejecución el programa debe recibir un parámetro que consiste en el directorio donde se ubican las imágenes que se van a utilizar.\n",
    "\n",
    "`../Images/7_PANO/*.jpg`"
   ]
  },
  {
   "cell_type": "markdown",
   "id": "freelance-glucose",
   "metadata": {},
   "source": [
    "## Diseño"
   ]
  },
  {
   "cell_type": "markdown",
   "id": "smart-hudson",
   "metadata": {},
   "source": [
    "El diseño del script se divide en módulos o funciones que realizan una acción recurrente a las imágenes de alrededor. Veremos las funciones implementadas aunque algunas son meras modificaciones del notebook de referencia y otras se han extraído de otros ejemplos[1](https://www.pyimagesearch.com/2018/12/17/image-stitching-with-opencv-and-python/)."
   ]
  },
  {
   "cell_type": "markdown",
   "id": "meaningful-correspondence",
   "metadata": {},
   "source": [
    "En primer lugar todas las imágenes deben tener un punto de referencia, en nuestro caso será la imagen central tendremos unas variables globales[2](https://www.w3schools.com/python/python_variables_global.asp) `tamXMax`, `tamYMax` que nos sirven para controlar el valor del desplazamiento en el mosaico.\n",
    "\n",
    "Estas variables son usadas por la función t que es una modificación de la función del notebook donde se diferencia entre las posiciones que puede ocupar una imagen."
   ]
  },
  {
   "cell_type": "code",
   "execution_count": 1,
   "id": "satisfied-disposition",
   "metadata": {},
   "outputs": [],
   "source": [
    "# Función auxiliar para llevar las imágenes a un marco común\n",
    "def t(h, x, num):\n",
    "    if num == 0:\n",
    "        return cv.warpPerspective(x, desp((0, tamYMax//2)) @ h, (tamXMax, tamYMax))\n",
    "    if num == 1:\n",
    "        return cv.warpPerspective(x, desp((tamXMax-(tamXMax//3), tamYMax//2)) @ h, (tamXMax, tamYMax))\n",
    "    else:\n",
    "        return cv.warpPerspective(x, desp((0, tamYMax//4)) @ h, (tamXMax+300, tamYMax+300))"
   ]
  },
  {
   "cell_type": "markdown",
   "id": "plain-delhi",
   "metadata": {},
   "source": [
    "Como última función auxiliar tenemos la creación del mosaico pero esta se apoya en la función `unir` que se encarga del uso de la homografía para la detección de la relación de imágenes."
   ]
  }
 ],
 "metadata": {
  "kernelspec": {
   "display_name": "Python 3",
   "language": "python",
   "name": "python3"
  },
  "language_info": {
   "codemirror_mode": {
    "name": "ipython",
    "version": 3
   },
   "file_extension": ".py",
   "mimetype": "text/x-python",
   "name": "python",
   "nbconvert_exporter": "python",
   "pygments_lexer": "ipython3",
   "version": "3.7.3"
  }
 },
 "nbformat": 4,
 "nbformat_minor": 5
}
