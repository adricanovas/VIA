{
 "cells": [
  {
   "cell_type": "markdown",
   "id": "1e92c369",
   "metadata": {},
   "source": [
    "# SIFT"
   ]
  },
  {
   "cell_type": "markdown",
   "id": "2e6f2a59",
   "metadata": {},
   "source": [
    "### Escribe una aplicación de reconocimiento de objetos (p. ej. carátulas de CD, portadas de libros, cuadros de pintores, etc.) con la webcam basada en el número de coincidencias de keypoints."
   ]
  },
  {
   "cell_type": "markdown",
   "id": "aea8b329",
   "metadata": {},
   "source": [
    "Este script se basa en el proporcionado por el profesor `sift.py` realizando algunas modificaciones.\n",
    "\n",
    "En otros notebook hemos visto como detectar objetos a través de los colores, histogramas y formas. A continuación usaremos el número de coincidencias.\n",
    "\n",
    "El número de keypoints de una imagen indica zonas de interés que caracterizan a una imagen. Si podemos compararla con otra y tiene un número muy alto de coincidencias podríamos indicar que estamos ante la misma imagen.\n",
    "\n",
    "Para su ejecución el programa debe recibir un parámetro que consiste en el path de las imágenes de comparación.\n",
    "\n",
    "`../Images/5_SIFT/*.jpg``"
   ]
  },
  {
   "cell_type": "markdown",
   "id": "8d7ad5c3",
   "metadata": {},
   "source": [
    "## Diseño "
   ]
  },
  {
   "cell_type": "markdown",
   "id": "16ccfc0a",
   "metadata": {},
   "source": [
    "Usando el esqueleto del script antes mencionado, el proceso comienza estableciendo algunos valores iniciales. En primer lugar tenemos que establecer un sift (para los keypoints), un matcher (para la comparación de coincidencias) y un valor de threshold que nos valdrá para indicar que una imagen es igual a otra.\n",
    "\n",
    "A continuación cargamos las imágenes de la carpeta. He usado unas caratulas de discos antiguos que han sido escaneados mediante un software de mi dispositivo móvil (Microsoft Lens)."
   ]
  },
  {
   "cell_type": "markdown",
   "id": "277722d7",
   "metadata": {},
   "source": [
    "<table><tr>\n",
    "<td> <div> <img src=\"../Images/5_SIFT/1.jpg\" width=\"300\"/> </div> </td>\n",
    "<td> <div> <img src=\"../Images/5_SIFT/2.jpg\" width=\"300\"/> </div> </td>\n",
    "<td> <div> <img src=\"../Images/5_SIFT/3.jpg\" width=\"300\"/> </div> </td>\n",
    "</tr></table>\n",
    "<table><tr>\n",
    "<td> <div> <img src=\"../Images/5_SIFT/4.jpg\" width=\"300\"/> </div> </td>\n",
    "<td> <div> <img src=\"../Images/5_SIFT/5.jpg\" width=\"300\"/> </div> </td>\n",
    "</tr></table>"
   ]
  },
  {
   "cell_type": "markdown",
   "id": "f73e2598",
   "metadata": {},
   "source": [
    "Tras cargar las imágenes realizamos un detección de los keypoints de cada una y lo almacenamos en una lista."
   ]
  },
  {
   "cell_type": "code",
   "execution_count": null,
   "id": "a8139337",
   "metadata": {},
   "outputs": [],
   "source": [
    "for f in files:\n",
    "    img = cv.imread(f)\n",
    "    keypoints, descriptors = sift.detectAndCompute(img, mask=None)\n",
    "    k0, d0, x0 = keypoints, descriptors, img\n",
    "    imagenes.append((k0, d0, x0, f))"
   ]
  },
  {
   "cell_type": "markdown",
   "id": "9644d40d",
   "metadata": {},
   "source": [
    "En tiempo real calculamos los keypoints de lo que se captura por la cámara y se compara con los de las imágenes. Cabe destacar que es un proceso que crea una latencia muy alta en mi ordenador.\n",
    "\n",
    "Cabe destacar que solo se tienen en cuenta las imágenes que superen un threshold establecido previamente."
   ]
  },
  {
   "cell_type": "code",
   "execution_count": null,
   "id": "fa7b408c",
   "metadata": {},
   "outputs": [],
   "source": [
    "for m in matches:\n",
    "    if len(m) >= 2:\n",
    "        best, second = m\n",
    "        if best.distance < 0.75 * second.distance:\n",
    "            good.append(best)\n",
    "\n",
    "if (len(good) / len(v[0]) * 100) > threshold and (len(good) / len(v[0]) * 100) > mejor[0]:\n",
    "    mejor[0] = (len(good) / len(v[0]) * 100)\n",
    "    mejor[1] = v[2]"
   ]
  },
  {
   "cell_type": "markdown",
   "id": "1d6e442b",
   "metadata": {},
   "source": [
    "## Resultado"
   ]
  },
  {
   "cell_type": "markdown",
   "id": "8ee1ab98",
   "metadata": {},
   "source": [
    "El resultado es un poco lento y debido a que las imágenes han sido tomadas por un escáner, este ha retocado el color, lo que puede observarse en el vídeo.\n",
    "\n",
    "Pese a esto el script es capaz de detectar y reconocer todas las caratulas y el resultado en general es bueno."
   ]
  },
  {
   "cell_type": "code",
   "execution_count": 1,
   "id": "fa561a47",
   "metadata": {},
   "outputs": [
    {
     "data": {
      "text/html": [
       "\n",
       "    <video alt=\"test\" idth=\"320\" height=\"240\"  controls>\n",
       "        <source src=\"../Images/5_SIFT/SIFT.mp4\" type=\"video/mp4\">\n",
       "    </video>\n"
      ],
      "text/plain": [
       "<IPython.core.display.HTML object>"
      ]
     },
     "execution_count": 1,
     "metadata": {},
     "output_type": "execute_result"
    }
   ],
   "source": [
    "from IPython.display import HTML\n",
    "\n",
    "HTML(\"\"\"\n",
    "    <video alt=\"test\" idth=\"320\" height=\"240\"  controls>\n",
    "        <source src=\"../Images/5_SIFT/SIFT.mp4\" type=\"video/mp4\">\n",
    "    </video>\n",
    "\"\"\")"
   ]
  }
 ],
 "metadata": {
  "kernelspec": {
   "display_name": "Python 3",
   "language": "python",
   "name": "python3"
  },
  "language_info": {
   "codemirror_mode": {
    "name": "ipython",
    "version": 3
   },
   "file_extension": ".py",
   "mimetype": "text/x-python",
   "name": "python",
   "nbconvert_exporter": "python",
   "pygments_lexer": "ipython3",
   "version": "3.7.3"
  }
 },
 "nbformat": 4,
 "nbformat_minor": 5
}
