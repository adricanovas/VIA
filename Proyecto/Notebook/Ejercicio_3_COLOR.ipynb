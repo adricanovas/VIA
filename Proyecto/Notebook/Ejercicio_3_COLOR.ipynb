{
 "cells": [
  {
   "cell_type": "markdown",
   "id": "wicked-pavilion",
   "metadata": {},
   "source": [
    "# COLOR #"
   ]
  },
  {
   "cell_type": "markdown",
   "id": "sudden-photography",
   "metadata": {},
   "source": [
    "##  Construye un clasificador de objetos en base a la similitud de los histogramas de color del ROI (de los 3 canales por separado)."
   ]
  },
  {
   "cell_type": "markdown",
   "id": "composite-smith",
   "metadata": {},
   "source": [
    "Muchas operaciones de imágenes comunes se realizan utilizando Regiones de interés (ROI), como hemos visto en el ejercicio anterior. Un ROI nos permite operar en un subconjunto rectangular de la imagen seleccionada.\n",
    "\n",
    "En este notebook iremos un paso más allá y veremos como aplicar un ROI donde se observe un histograma de los canales de color.\n",
    "\n",
    "Para este programa me he basado en el script `reprdist.py` para la estructura selección de una región ROI, y en `histogram.py` donde me he basado para crear y escalar los histogramas."
   ]
  },
  {
   "cell_type": "markdown",
   "id": "effc4ea7",
   "metadata": {},
   "source": [
    "### Diseño"
   ]
  },
  {
   "cell_type": "markdown",
   "id": "c76a8dd3",
   "metadata": {},
   "source": [
    "El diseño general se basa en el script `reprdist.py`. La idea genera es generar un histograma para cada canal de color. Estos histogramas serán almacenados al pulsar la tecla `c` y cuando se seleccione una región con el ratón (ROI) se comprará con los histogramas almacenados.\n",
    "\n",
    "Si el valor de la comparación supera un humbral consideramos que la imagen es de la misma zona y por tanto aparecerá en una ventana de detección."
   ]
  },
  {
   "cell_type": "markdown",
   "id": "5eb1e02b",
   "metadata": {},
   "source": [
    "Por tanto una vez marcada la zona de interés se procede al calculo de los histogramas de la siguiente manera:"
   ]
  },
  {
   "cell_type": "code",
   "execution_count": null,
   "id": "58c6c69d",
   "metadata": {},
   "outputs": [],
   "source": [
    "red = trozo[:, :, 2].copy()\n",
    "\n",
    "# Histogramas del canal RED\n",
    "histBlue, binsBlue = np.histogram(blue, bins=32, range=(0, 257))\n",
    "histGreen, binsGreen = np.histogram(green, bins=32, range=(0, 257))\n",
    "histRed, binsRed = np.histogram(red, bins=32, range=(0, 257))"
   ]
  },
  {
   "cell_type": "markdown",
   "id": "33f7af17",
   "metadata": {},
   "source": [
    "Si se pulsa `c` se almacena una sección en la lista de modelos. Esta directiva realiza un escalado en la imagen antes de añadirla y la muestra en la ventana `models`."
   ]
  },
  {
   "cell_type": "code",
   "execution_count": null,
   "id": "b57273ff",
   "metadata": {},
   "outputs": [],
   "source": [
    "models.append((trozo, histRed, histGreen, histBlue))\n",
    "aux = list()\n",
    "for m in models:\n",
    "    scaled = cv.resize(np.array(m[0]), (160, 160), interpolation=cv.INTER_AREA)\n",
    "    aux.append(scaled)\n",
    "mixed_frames = np.hstack(aux)\n",
    "cv.imshow('models', mixed_frames)"
   ]
  },
  {
   "cell_type": "markdown",
   "id": "355f52d7",
   "metadata": {},
   "source": [
    "Y por cada modelo almacenado debemos compararlo con la ROI que tenemos en ese momento. Cabe destacar que los valores que se muestran en la parte superior es la comparativa entre la selección actual y los modelos almacenados, por lo que cuando no hay selección podemos ver el valor generar de los modelos."
   ]
  },
  {
   "cell_type": "code",
   "execution_count": null,
   "id": "040baa56",
   "metadata": {},
   "outputs": [],
   "source": [
    "for m in models:\n",
    "    [m1, hr, hg, hb] = m\n",
    "    dR = np.sum(cv.absdiff(histRed, hr))\n",
    "    dG = np.sum(cv.absdiff(histGreen, hg))\n",
    "    dB = np.sum(cv.absdiff(histBlue, hb))\n",
    "    results.append(max(dR, dG, dB) / 1000)\n",
    "bestResult = min(results)"
   ]
  },
  {
   "cell_type": "markdown",
   "id": "cb883cf2",
   "metadata": {},
   "source": [
    "### Resultado"
   ]
  },
  {
   "cell_type": "markdown",
   "id": "990a9fd3",
   "metadata": {},
   "source": [
    "En el siguiente video veremos el comportamiento del script sobre una parte del escritorio con varios elementos de diferentes colores."
   ]
  },
  {
   "cell_type": "code",
   "execution_count": 1,
   "id": "d7ae24d3",
   "metadata": {},
   "outputs": [
    {
     "data": {
      "text/html": [
       "\n",
       "    <video alt=\"test\" idth=\"320\" height=\"240\"  controls>\n",
       "        <source src=\"../Images/3_COLOR/COLOR.mp4\" type=\"video/mp4\">\n",
       "    </video>\n"
      ],
      "text/plain": [
       "<IPython.core.display.HTML object>"
      ]
     },
     "execution_count": 1,
     "metadata": {},
     "output_type": "execute_result"
    }
   ],
   "source": [
    "from IPython.display import HTML\n",
    "\n",
    "HTML(\"\"\"\n",
    "    <video alt=\"test\" idth=\"320\" height=\"240\"  controls>\n",
    "        <source src=\"../Images/3_COLOR/COLOR.mp4\" type=\"video/mp4\">\n",
    "    </video>\n",
    "\"\"\")"
   ]
  }
 ],
 "metadata": {
  "kernelspec": {
   "display_name": "Python 3",
   "language": "python",
   "name": "python3"
  },
  "language_info": {
   "codemirror_mode": {
    "name": "ipython",
    "version": 3
   },
   "file_extension": ".py",
   "mimetype": "text/x-python",
   "name": "python",
   "nbconvert_exporter": "python",
   "pygments_lexer": "ipython3",
   "version": "3.8.2"
  }
 },
 "nbformat": 4,
 "nbformat_minor": 5
}
